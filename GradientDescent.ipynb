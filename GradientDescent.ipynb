{
  "nbformat": 4,
  "nbformat_minor": 0,
  "metadata": {
    "colab": {
      "name": "06_SGD.ipynb",
      "provenance": [],
      "collapsed_sections": [],
      "toc_visible": true
    },
    "kernelspec": {
      "name": "python3",
      "display_name": "Python 3"
    }
  },
  "cells": [
    {
      "cell_type": "markdown",
      "metadata": {
        "id": "9-3QPgVFTK-o",
        "colab_type": "text"
      },
      "source": [
        "#                        **Gradient Descent implementation from the scratch**"
      ]
    },
    {
      "cell_type": "code",
      "metadata": {
        "id": "REYPoTJ1Af7u",
        "colab_type": "code",
        "colab": {}
      },
      "source": [
        "import warnings\n",
        "warnings.filterwarnings(\"ignore\")\n",
        "from sklearn.datasets import load_boston\n",
        "from random import seed\n",
        "import pandas as pd\n",
        "import numpy as np\n",
        "from sklearn.preprocessing import StandardScaler\n",
        "from sklearn.metrics import mean_squared_error"
      ],
      "execution_count": 0,
      "outputs": []
    },
    {
      "cell_type": "markdown",
      "metadata": {
        "id": "Us9b5r0u_M40",
        "colab_type": "text"
      },
      "source": [
        "### **Loading Boston dataset**"
      ]
    },
    {
      "cell_type": "code",
      "metadata": {
        "id": "NTQ2iH-kAwbo",
        "colab_type": "code",
        "colab": {}
      },
      "source": [
        "X = load_boston().data\n",
        "Y = load_boston().target"
      ],
      "execution_count": 0,
      "outputs": []
    },
    {
      "cell_type": "markdown",
      "metadata": {
        "id": "FdSdMTxSrilr",
        "colab_type": "text"
      },
      "source": [
        "### **Code implementation**"
      ]
    },
    {
      "cell_type": "code",
      "metadata": {
        "id": "NRK8F4bSIk2V",
        "colab_type": "code",
        "colab": {}
      },
      "source": [
        "# cost variable stores loss value in each iteration, useful for ploting loss v/s iterations\n",
        "cost=[]\n",
        "class GradientDescent:\n",
        "    def __init__(self, learning_rate, n_iter):\n",
        "        self.learning_rate = learning_rate\n",
        "        self.n_iter = n_iter\n",
        "\n",
        "    def fit(self, X, Y):\n",
        "        Y=Y.reshape(-1,1)\n",
        "        # standardize the data        \n",
        "        X = self.normalize(X)\n",
        "\n",
        "        N= X.shape[0]\n",
        "        np.random.seed(28)\n",
        "\n",
        "        # Initialise random weights.\n",
        "        W = np.random.normal(0,1,X.shape[1]).reshape(-1,1) #13*1\n",
        "        # Initialize random value of Intercept\n",
        "        b = np.random.normal(0,1,1)[0]\n",
        "        learning_rate= self.learning_rate\n",
        "\n",
        "        for iter_ in range(self.n_iter):\n",
        "            #calculate gradients\n",
        "            dLw = (-2/N)*np.matmul(X.T, (Y-np.matmul(X,W)-b))\n",
        "            dLb = (-1/N)*(Y-np.dot(X,W)-b) # intercept should be scalar\n",
        "            W = W - (learning_rate * dLw)\n",
        "            b = b - (learning_rate * sum(dLb))\n",
        "            error = mean_squared_error(Y, np.dot(X,W)+b)\n",
        "            cost.append(error)\n",
        "            #print(\"iter : {0}, error :{1} , intercept= {2}\".format(iter_+1, error, b))\n",
        "        self.coef_= W\n",
        "        self.intercept_= b\n",
        "\n",
        "    def normalize(self, X):\n",
        "        sc = StandardScaler()\n",
        "        X = sc.fit_transform(X)\n",
        "        return X\n",
        "\n",
        "    def predict(self, X):\n",
        "        X=self.normalize(X)\n",
        "        return np.dot(X,self.coef_)+self.intercept_\n"
      ],
      "execution_count": 0,
      "outputs": []
    },
    {
      "cell_type": "markdown",
      "metadata": {
        "id": "kbZlInAvE-yF",
        "colab_type": "text"
      },
      "source": [
        "### **Comparision of results**"
      ]
    },
    {
      "cell_type": "markdown",
      "metadata": {
        "id": "Ito-Xp97SF8L",
        "colab_type": "text"
      },
      "source": [
        "#### **Scratch code's Gradient Descent**"
      ]
    },
    {
      "cell_type": "code",
      "metadata": {
        "id": "yatahllILR0F",
        "colab_type": "code",
        "colab": {
          "base_uri": "https://localhost:8080/",
          "height": 255
        },
        "outputId": "334a245a-5ad5-4d90-f645-499975473588"
      },
      "source": [
        "#learing rate\n",
        "learning_rate=0.01\n",
        "#no of iterations\n",
        "n_iter=500\n",
        "\n",
        "gd = GradientDescent(learning_rate=learning_rate, n_iter=n_iter)\n",
        "gd.fit(X,Y)\n",
        "pred= gd.predict(X)\n",
        "\n",
        "print(\"Weights: \", gd.coef_,\" & Intercept: \", gd.intercept_)\n",
        "print(\"MSE error : \", mean_squared_error(Y, gd.predict(X)) )"
      ],
      "execution_count": 15,
      "outputs": [
        {
          "output_type": "stream",
          "text": [
            "Weights:  [[-0.76121935]\n",
            " [ 0.88472784]\n",
            " [-0.29277136]\n",
            " [ 0.74502663]\n",
            " [-1.52786238]\n",
            " [ 2.87621452]\n",
            " [-0.10634081]\n",
            " [-2.8062878 ]\n",
            " [ 1.36976216]\n",
            " [-0.8641931 ]\n",
            " [-1.88936034]\n",
            " [ 0.86063672]\n",
            " [-3.67940582]]  & Intercept:  [22.37308921]\n",
            "MSE error :  22.207430796607607\n"
          ],
          "name": "stdout"
        }
      ]
    },
    {
      "cell_type": "markdown",
      "metadata": {
        "id": "byvY94-dLH47",
        "colab_type": "text"
      },
      "source": [
        "#### **LinearRegression from Sklearn**"
      ]
    },
    {
      "cell_type": "code",
      "metadata": {
        "id": "6RFWGuXPwFgN",
        "colab_type": "code",
        "outputId": "faabd4e0-ba66-400e-bf48-00c3daa21086",
        "colab": {
          "base_uri": "https://localhost:8080/",
          "height": 102
        }
      },
      "source": [
        "from sklearn.linear_model import LinearRegression\n",
        "clf= LinearRegression()\n",
        "clf.fit(X,Y)\n",
        "print(\"weights : \", clf.coef_ , \" & Intercept : \", clf.intercept_)\n",
        "print(\"MSE error : \",mean_squared_error(Y, clf.predict(X)))"
      ],
      "execution_count": 8,
      "outputs": [
        {
          "output_type": "stream",
          "text": [
            "weights :  [-1.08011358e-01  4.64204584e-02  2.05586264e-02  2.68673382e+00\n",
            " -1.77666112e+01  3.80986521e+00  6.92224640e-04 -1.47556685e+00\n",
            "  3.06049479e-01 -1.23345939e-02 -9.52747232e-01  9.31168327e-03\n",
            " -5.24758378e-01]  & Intercept :  36.459488385090125\n",
            "MSE error :  21.894831181729202\n"
          ],
          "name": "stdout"
        }
      ]
    },
    {
      "cell_type": "markdown",
      "metadata": {
        "id": "-6IfsH8f_oaU",
        "colab_type": "text"
      },
      "source": [
        "### **Gradient Descent plot- Loss v/s Iterations**"
      ]
    },
    {
      "cell_type": "code",
      "metadata": {
        "id": "5Fc4iXupKEEr",
        "colab_type": "code",
        "outputId": "6c58b700-abdf-45cd-e26f-f9f277434b35",
        "colab": {
          "base_uri": "https://localhost:8080/",
          "height": 279
        }
      },
      "source": [
        "import seaborn as sns\n",
        "import matplotlib.pyplot as plt\n",
        "\n",
        "sns.scatterplot(range(1,n_iter+1), cost)\n",
        "plt.xlabel(\"iterations\")\n",
        "plt.ylabel(\"loss\")\n",
        "plt.show()"
      ],
      "execution_count": 16,
      "outputs": [
        {
          "output_type": "display_data",
          "data": {
            "image/png": "[encoded data removed]",
            "text/plain": [
              "<Figure size 432x288 with 1 Axes>"
            ]
          },
          "metadata": {
            "tags": []
          }
        }
      ]
    },
    {
      "cell_type": "markdown",
      "metadata": {
        "id": "yaawAsszQuGl",
        "colab_type": "text"
      },
      "source": [
        "### **Conclusion**"
      ]
    },
    {
      "cell_type": "markdown",
      "metadata": {
        "id": "sAAMCsH2Q5cN",
        "colab_type": "text"
      },
      "source": [
        "We can enhance the performance by adding more hyper-parameters.\n",
        "\n",
        "Refer: https://scikit-learn.org/stable/modules/generated/sklearn.linear_model.SGDRegressor.html "
      ]
    },
    {
      "cell_type": "code",
      "metadata": {
        "id": "Z8wNnFzrEbWa",
        "colab_type": "code",
        "outputId": "00eb8cda-111a-45fa-806c-ce3739e07da8",
        "colab": {
          "base_uri": "https://localhost:8080/",
          "height": 153
        }
      },
      "source": [
        "from prettytable import PrettyTable\n",
        "pt = PrettyTable([\"\",\"GradientDescent\",\"LinearRegression\"])\n",
        "pt.add_row([\"error(MSE)\", 21.98, 21.89])\n",
        "pt.add_row([\"intercept\", 22.37, 22.53])\n",
        "pt.add_row([\"n_iter\", 500, \"-\"])\n",
        "pt.add_row([\"learning_rate\", 0.01, \"-\"])\n",
        "print(pt)"
      ],
      "execution_count": 17,
      "outputs": [
        {
          "output_type": "stream",
          "text": [
            "+---------------+-----------------+------------------+\n",
            "|               | GradientDescent | LinearRegression |\n",
            "+---------------+-----------------+------------------+\n",
            "|   error(MSE)  |      21.98      |      21.89       |\n",
            "|   intercept   |      22.37      |      22.53       |\n",
            "|     n_iter    |       500       |        -         |\n",
            "| learning_rate |       0.01      |        -         |\n",
            "+---------------+-----------------+------------------+\n"
          ],
          "name": "stdout"
        }
      ]
    },
    {
      "cell_type": "code",
      "metadata": {
        "id": "JPA6Ji6TU7p1",
        "colab_type": "code",
        "colab": {}
      },
      "source": [
        ""
      ],
      "execution_count": 0,
      "outputs": []
    }
  ]
}